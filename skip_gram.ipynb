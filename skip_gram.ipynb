{
  "nbformat": 4,
  "nbformat_minor": 0,
  "metadata": {
    "colab": {
      "provenance": [],
      "gpuType": "T4",
      "authorship_tag": "ABX9TyM4r04Nw3E7M/hKy6B8wGwx",
      "include_colab_link": true
    },
    "kernelspec": {
      "name": "python3",
      "display_name": "Python 3"
    },
    "language_info": {
      "name": "python"
    },
    "accelerator": "GPU"
  },
  "cells": [
    {
      "cell_type": "markdown",
      "metadata": {
        "id": "view-in-github",
        "colab_type": "text"
      },
      "source": [
        "<a href=\"https://colab.research.google.com/github/pd8459/skip_gram/blob/main/skip_gram.ipynb\" target=\"_parent\"><img src=\"https://colab.research.google.com/assets/colab-badge.svg\" alt=\"Open In Colab\"/></a>"
      ]
    },
    {
      "cell_type": "code",
      "execution_count": null,
      "metadata": {
        "id": "i3jR9xzf8sWc"
      },
      "outputs": [],
      "source": [
        "import math\n",
        "import torch\n",
        "import matplotlib.pyplot as plt\n",
        "import numpy as np\n",
        "import pandas as pd\n",
        "import re\n",
        "\n",
        "import torch.nn as nn\n",
        "import torch.optim as optim\n",
        "from torch.utils.data import Dataset, DataLoader"
      ]
    },
    {
      "cell_type": "code",
      "source": [
        "device = torch.device(\"cuda\" if torch.cuda.is_available() else \"cpu\")\n",
        "print(f\"Using device: {device}\")"
      ],
      "metadata": {
        "colab": {
          "base_uri": "https://localhost:8080/"
        },
        "id": "tI1l6zdND0mn",
        "outputId": "18383a98-da4e-4ce1-9028-0f0332f8cb9f"
      },
      "execution_count": null,
      "outputs": [
        {
          "output_type": "stream",
          "name": "stdout",
          "text": [
            "Using device: cuda\n"
          ]
        }
      ]
    },
    {
      "cell_type": "code",
      "source": [
        "from sklearn.datasets import fetch_20newsgroups"
      ],
      "metadata": {
        "id": "pkfSTcOx8v3a"
      },
      "execution_count": null,
      "outputs": []
    },
    {
      "cell_type": "code",
      "source": [
        "dataset = fetch_20newsgroups(shuffle=True, random_state=1, remove=('headers', 'footers', 'quotes'))\n",
        "documents = dataset.data[:100]"
      ],
      "metadata": {
        "id": "2hSbQOXj814p"
      },
      "execution_count": null,
      "outputs": []
    },
    {
      "cell_type": "code",
      "source": [
        "def load_text(filepath):\n",
        "    with open(filepath, 'r', encoding='utf-8') as f:\n",
        "        return f.read()\n",
        "\n",
        "text = load_text('text.txt')\n",
        "\n",
        "def preprocess(text):\n",
        "  text = text.lower()\n",
        "  text = re.sub(r'[^a-z\\s]', '', text)\n",
        "  text = text.replace('\\n', ' ')\n",
        "  text = re.sub(r'\\s+', ' ', text).strip()\n",
        "\n",
        "  words = text.split(' ')\n",
        "  word_to_id  = {}\n",
        "  id_to_word = {}\n",
        "\n",
        "  for word in words:\n",
        "      if word not in word_to_id:\n",
        "        new_id = len(word_to_id)\n",
        "        word_to_id[word] = new_id\n",
        "        id_to_word[new_id] = word\n",
        "\n",
        "  corpus = [word_to_id[word] for word in words]\n",
        "  return corpus, word_to_id, id_to_word\n",
        "\n",
        "corpus, word_to_id, id_to_word = preprocess(\", \".join(documents))"
      ],
      "metadata": {
        "id": "UWJgXvYw82cx"
      },
      "execution_count": null,
      "outputs": []
    },
    {
      "cell_type": "code",
      "source": [
        "def generate_skipgram_pairs(corpus, window_size):\n",
        "  pairs = []\n",
        "  for i in range(window_size, len(corpus) - window_size):\n",
        "      center = corpus[i]\n",
        "      for j in range(-window_size, window_size +1):\n",
        "          if j == 0:\n",
        "              continue\n",
        "          context = corpus[i+j]\n",
        "          pairs.append((center, context))\n",
        "      return pairs\n",
        "\n",
        "window_size = 5\n",
        "K=5\n",
        "vocab_size = len(word_to_id)\n",
        "pairs = generate_skipgram_pairs(corpus, window_size)"
      ],
      "metadata": {
        "id": "ihKUu9G894fJ"
      },
      "execution_count": null,
      "outputs": []
    },
    {
      "cell_type": "code",
      "source": [
        "import random\n",
        "def get_negative_samples(context_word, vocab_size, K):\n",
        "    neg_samples = []\n",
        "    while len(neg_samples) < K:\n",
        "        neg = random.randint(0, vocab_size-1)\n",
        "        if neg != context_word:\n",
        "            neg_samples.append(neg)\n",
        "    return neg_samples\n",
        "\n",
        "class SkipGramNegDataset(Dataset):\n",
        "    def __init__(self, pairs, vocab_size, K):\n",
        "        self.pairs = pairs\n",
        "        self.vocab_size = vocab_size\n",
        "        self.K = K\n",
        "\n",
        "    def __len__(self):\n",
        "        return len(self.pairs)\n",
        "\n",
        "    def __getitem__(self, idx):\n",
        "        center, context = self.pairs[idx]\n",
        "        negatives = get_negative_samples(context, self.vocab_size, self.K)\n",
        "        return (\n",
        "            torch.tensor(center, dtype = torch.long),\n",
        "            torch.tensor(context, dtype = torch.long),\n",
        "            torch.tensor(negatives, dtype = torch.long)\n",
        "        )\n",
        "\n"
      ],
      "metadata": {
        "id": "UOcSGyZn-iU8"
      },
      "execution_count": null,
      "outputs": []
    },
    {
      "cell_type": "code",
      "source": [
        "dataset = SkipGramNegDataset(pairs, vocab_size, K)\n",
        "dataloader = DataLoader(dataset, batch_size=64, shuffle=True)"
      ],
      "metadata": {
        "id": "st-Jcirb_f4_"
      },
      "execution_count": null,
      "outputs": []
    },
    {
      "cell_type": "code",
      "source": [
        "for center, context, negatives in dataloader:\n",
        "    print(\"Center:\", center)\n",
        "    print(\"Context:\", context)\n",
        "    print(\"Nagatives:\", negatives)\n",
        "    break"
      ],
      "metadata": {
        "colab": {
          "base_uri": "https://localhost:8080/"
        },
        "id": "cSlTkZqaBWNm",
        "outputId": "c3768866-db5a-4a62-c48e-55095301b8d8"
      },
      "execution_count": null,
      "outputs": [
        {
          "output_type": "stream",
          "name": "stdout",
          "text": [
            "Center: tensor([5, 5, 5, 5, 5, 5, 5, 5, 5, 5])\n",
            "Context: tensor([ 2,  4,  1,  8, 10,  3,  7,  6,  0,  9])\n",
            "Nagatives: tensor([[3478, 1486, 4252, 1628, 2070],\n",
            "        [3313, 4732, 2775,  742,  369],\n",
            "        [4781, 4195, 1196, 2527, 2176],\n",
            "        [ 222, 4434,  177, 2263, 3389],\n",
            "        [ 650, 1164,  367, 2512, 3853],\n",
            "        [3385, 4116, 1268, 4519, 4864],\n",
            "        [3149, 1966, 2105, 4272, 4004],\n",
            "        [1397, 1742, 2648,  693, 4443],\n",
            "        [4366,  153, 1821, 1594, 2845],\n",
            "        [2554, 2775, 3990,  635,  688]])\n"
          ]
        }
      ]
    },
    {
      "cell_type": "code",
      "source": [
        "import torch.nn.functional as F\n",
        "\n",
        "class SkipGramNegSampling(nn.Module):\n",
        "    def __init__(self, vocab_size, embedding_dim):\n",
        "        super(SkipGramNegSampling, self).__init__()\n",
        "        self.input_embedding = nn.Embedding(vocab_size, embedding_dim)\n",
        "        self.output_embedding = nn.Embedding(vocab_size, embedding_dim)\n",
        "\n",
        "    def forward(self, center, pos_context, neg_contexts):\n",
        "        v_center = self.input_embedding(center)\n",
        "        v_pos = self.output_embedding(pos_context)\n",
        "        v_neg = self.output_embedding(neg_contexts)\n",
        "\n",
        "        pos_score = torch.sum(v_center * v_pos, dim=1)\n",
        "        pos_loss = F.logsigmoid(pos_score)\n",
        "\n",
        "        neg_score = torch.bmm(v_neg, v_center.unsqueeze(2)).squeeze()\n",
        "        neg_loss = F.logsigmoid(-neg_score).sum(1)\n",
        "\n",
        "        loss = -(pos_loss + neg_loss).mean()\n",
        "        return loss"
      ],
      "metadata": {
        "id": "cuHbhQNJBlLI"
      },
      "execution_count": null,
      "outputs": []
    },
    {
      "cell_type": "code",
      "source": [
        "torch.cuda.manual_seed(123)\n",
        "model = SkipGramNegSampling(vocab_size, 100).to(device)\n",
        "# Assign the optimizer to a variable named 'optimizer'\n",
        "optimizer = torch.optim.Adam(model.parameters(), lr = 0.003)\n",
        "\n",
        "epochs = 50\n",
        "for epoch in range(epochs):\n",
        "  total_loss = 0\n",
        "  for center, context, negatives in dataloader:\n",
        "    optimizer.zero_grad()\n",
        "    loss = model(center.to(device), context.to(device), negatives.to(device))\n",
        "    loss.backward()\n",
        "    optimizer.step()\n",
        "    total_loss += loss.item()\n",
        "  print(f\"Epoch {epoch+1}/{epochs}, Loss: {total_loss:.4f}\")"
      ],
      "metadata": {
        "colab": {
          "base_uri": "https://localhost:8080/"
        },
        "id": "SNZj4PAcCxNT",
        "outputId": "1e92aaf6-e49f-4e6b-e862-38281582afb5"
      },
      "execution_count": null,
      "outputs": [
        {
          "output_type": "stream",
          "name": "stdout",
          "text": [
            "Epoch 1/50, Loss: 32.2958\n",
            "Epoch 2/50, Loss: 14.6382\n",
            "Epoch 3/50, Loss: 15.8007\n",
            "Epoch 4/50, Loss: 15.0683\n",
            "Epoch 5/50, Loss: 15.5238\n",
            "Epoch 6/50, Loss: 17.0632\n",
            "Epoch 7/50, Loss: 26.6278\n",
            "Epoch 8/50, Loss: 18.4083\n",
            "Epoch 9/50, Loss: 22.5019\n",
            "Epoch 10/50, Loss: 17.1314\n",
            "Epoch 11/50, Loss: 20.0984\n",
            "Epoch 12/50, Loss: 15.7137\n",
            "Epoch 13/50, Loss: 19.1127\n",
            "Epoch 14/50, Loss: 19.2005\n",
            "Epoch 15/50, Loss: 20.5294\n",
            "Epoch 16/50, Loss: 21.5845\n",
            "Epoch 17/50, Loss: 19.0956\n",
            "Epoch 18/50, Loss: 15.6312\n",
            "Epoch 19/50, Loss: 20.2344\n",
            "Epoch 20/50, Loss: 17.1900\n",
            "Epoch 21/50, Loss: 20.1115\n",
            "Epoch 22/50, Loss: 25.6098\n",
            "Epoch 23/50, Loss: 19.9753\n",
            "Epoch 24/50, Loss: 14.5494\n",
            "Epoch 25/50, Loss: 19.3087\n",
            "Epoch 26/50, Loss: 18.0134\n",
            "Epoch 27/50, Loss: 15.9002\n",
            "Epoch 28/50, Loss: 15.4950\n",
            "Epoch 29/50, Loss: 11.0526\n",
            "Epoch 30/50, Loss: 20.5480\n",
            "Epoch 31/50, Loss: 21.1355\n",
            "Epoch 32/50, Loss: 16.3085\n",
            "Epoch 33/50, Loss: 17.0618\n",
            "Epoch 34/50, Loss: 17.6909\n",
            "Epoch 35/50, Loss: 21.8743\n",
            "Epoch 36/50, Loss: 22.1711\n",
            "Epoch 37/50, Loss: 15.3769\n",
            "Epoch 38/50, Loss: 20.0225\n",
            "Epoch 39/50, Loss: 16.4595\n",
            "Epoch 40/50, Loss: 14.7113\n",
            "Epoch 41/50, Loss: 18.0339\n",
            "Epoch 42/50, Loss: 18.4292\n",
            "Epoch 43/50, Loss: 18.7137\n",
            "Epoch 44/50, Loss: 23.8903\n",
            "Epoch 45/50, Loss: 23.8763\n",
            "Epoch 46/50, Loss: 14.0749\n",
            "Epoch 47/50, Loss: 14.8610\n",
            "Epoch 48/50, Loss: 18.0549\n",
            "Epoch 49/50, Loss: 22.2865\n",
            "Epoch 50/50, Loss: 21.9599\n"
          ]
        }
      ]
    },
    {
      "cell_type": "code",
      "source": [
        "def most_similar(word, model, word_to_id, id_to_word, topk=5):\n",
        "    if word not in word_to_id:\n",
        "      print(\"단어가 vocabulary에 없습니다.\")\n",
        "      return\n",
        "\n",
        "    word_id = word_to_id[word]\n",
        "    with torch.no_grad():\n",
        "      emb = model.input_embedding.weight\n",
        "      target_vec = emb[word_id]\n",
        "      scores = F.cosine_similarity(target_vec.unsqueeze(0), emb)\n",
        "      topk_ids = torch.topk(scores, topk+1).indices.tolist()"
      ],
      "metadata": {
        "id": "HqvI5lUUEK1F"
      },
      "execution_count": null,
      "outputs": []
    }
  ]
}